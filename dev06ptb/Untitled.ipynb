{
 "cells": [
  {
   "cell_type": "code",
   "execution_count": 1,
   "metadata": {
    "collapsed": false
   },
   "outputs": [],
   "source": [
    "%matplotlib inline\n",
    "import numpy as np\n",
    "import matplotlib\n",
    "import matplotlib.pyplot as plt"
   ]
  },
  {
   "cell_type": "markdown",
   "metadata": {},
   "source": [
    "# NODE ORGANISATION"
   ]
  },
  {
   "cell_type": "code",
   "execution_count": 44,
   "metadata": {
    "collapsed": true
   },
   "outputs": [],
   "source": [
    "activations=np.load('activation.npy')"
   ]
  },
  {
   "cell_type": "code",
   "execution_count": 45,
   "metadata": {
    "collapsed": false
   },
   "outputs": [
    {
     "data": {
      "text/plain": [
       "(14, 14)"
      ]
     },
     "execution_count": 45,
     "metadata": {},
     "output_type": "execute_result"
    }
   ],
   "source": [
    "np.shape(activations)"
   ]
  },
  {
   "cell_type": "code",
   "execution_count": 46,
   "metadata": {
    "collapsed": false
   },
   "outputs": [
    {
     "data": {
      "text/plain": [
       "<matplotlib.image.AxesImage at 0x118cdf310>"
      ]
     },
     "execution_count": 46,
     "metadata": {},
     "output_type": "execute_result"
    },
    {
     "data": {
      "image/png": "[encoded data removed]",
      "text/plain": [
       "<matplotlib.figure.Figure at 0x1185f3f10>"
      ]
     },
     "metadata": {},
     "output_type": "display_data"
    }
   ],
   "source": [
    "plt.imshow(activations, interpolation='none')"
   ]
  },
  {
   "cell_type": "markdown",
   "metadata": {},
   "source": [
    "# ACTIVATION TRANSFORMATION\n",
    "\n",
    "1. starting from high pass filter (https://stackoverflow.com/questions/6094957/high-pass-filter-for-image-processing-in-python-by-using-scipy-numpy)"
   ]
  },
  {
   "cell_type": "code",
   "execution_count": 49,
   "metadata": {
    "collapsed": false
   },
   "outputs": [
    {
     "data": {
      "text/plain": [
       "<matplotlib.image.AxesImage at 0x1183ab750>"
      ]
     },
     "execution_count": 49,
     "metadata": {},
     "output_type": "execute_result"
    },
    {
     "data": {
      "image/png": "[encoded data removed]",
      "text/plain": [
       "<matplotlib.figure.Figure at 0x1187c0250>"
      ]
     },
     "metadata": {},
     "output_type": "display_data"
    }
   ],
   "source": [
    "import matplotlib.pyplot as plt\n",
    "import numpy as np\n",
    "from scipy import ndimage\n",
    "\n",
    "#def plot(data, title):\n",
    "#    plot.i += 1\n",
    "#    plt.subplot(2,2,plot.i)\n",
    "#    plt.imshow(data)\n",
    "#    plt.gray()\n",
    "#    plt.title(title)\n",
    "#plot.i = 0\n",
    "\n",
    "# A very simple and very narrow highpass filter\n",
    "kernel = np.array([[-1, -1, -1],\n",
    "                   [-1,  8, -1],\n",
    "                   [-1, -1, -1]])\n",
    "\n",
    "highpass_3x3 = ndimage.convolve(activations, kernel)\n",
    "\n",
    "# Another way of making a highpass filter is to simply subtract a lowpass\n",
    "# filtered image from the original. Here, we'll use a simple gaussian filter\n",
    "# to \"blur\" (i.e. a lowpass filter) the original.\n",
    "lowpass = ndimage.gaussian_filter(activations, 3)\n",
    "gauss_highpass = activations - lowpass\n",
    "#plt(gauss_highpass, r'Gaussian Highpass, $\\sigma = 3 pixels$')\n",
    "#plt.show()\n",
    "\n",
    "plt.imshow(gauss_highpass, interpolation='none')"
   ]
  },
  {
   "cell_type": "markdown",
   "metadata": {},
   "source": [
    "# Target Pattern\n"
   ]
  },
  {
   "cell_type": "markdown",
   "metadata": {},
   "source": [
    "# Regularisation\n",
    "Frobenius norm"
   ]
  },
  {
   "cell_type": "code",
   "execution_count": 22,
   "metadata": {
    "collapsed": false
   },
   "outputs": [
    {
     "data": {
      "text/plain": [
       "1.7954046"
      ]
     },
     "execution_count": 22,
     "metadata": {},
     "output_type": "execute_result"
    }
   ],
   "source": [
    "from scipy.linalg import norm\n",
    "\n",
    "norm(gauss_highpass)"
   ]
  },
  {
   "cell_type": "code",
   "execution_count": 64,
   "metadata": {
    "collapsed": false
   },
   "outputs": [
    {
     "data": {
      "image/png": "[encoded data removed]",
      "text/plain": [
       "<matplotlib.figure.Figure at 0x119827190>"
      ]
     },
     "metadata": {},
     "output_type": "display_data"
    }
   ],
   "source": [
    "K = np.array([[-1, -1, -1],\n",
    "            [-1,  8, -1],\n",
    "            [-1, -1, -1]],  dtype=np.float32)\n",
    "# as tensorflow constants with correct shapes\n",
    "x = tf.constant(activations.reshape(1, activations.shape[0], activations.shape[1], 1))\n",
    "\n",
    "w = tf.constant(K.reshape(K.shape[0],K.shape[1], 1, 1))\n",
    "\n",
    "\n",
    "with tf.Session() as sess:\n",
    "    # get low/high pass ops\n",
    "    lowpass = tf.nn.conv2d(x, w, strides=[1, 1, 1, 1], padding='SAME')\n",
    "    highpass = x-lowpass\n",
    "\n",
    "    # get high pass image\n",
    "    l = sess.run(highpass)\n",
    "    l = l.reshape(14,14)\n",
    "\n",
    "    plt.imshow(l, interpolation='none')\n",
    "    l=sess.run(x)"
   ]
  },
  {
   "cell_type": "code",
   "execution_count": 37,
   "metadata": {
    "collapsed": false
   },
   "outputs": [
    {
     "name": "stdout",
     "output_type": "stream",
     "text": [
      "(1, 14, 14, 1)\n"
     ]
    }
   ],
   "source": [
    "print np.shape(l)"
   ]
  },
  {
   "cell_type": "code",
   "execution_count": null,
   "metadata": {
    "collapsed": true
   },
   "outputs": [],
   "source": []
  }
 ],
 "metadata": {
  "kernelspec": {
   "display_name": "Python 2",
   "language": "python",
   "name": "python2"
  },
  "language_info": {
   "codemirror_mode": {
    "name": "ipython",
    "version": 2
   },
   "file_extension": ".py",
   "mimetype": "text/x-python",
   "name": "python",
   "nbconvert_exporter": "python",
   "pygments_lexer": "ipython2",
   "version": "2.7.9"
  }
 },
 "nbformat": 4,
 "nbformat_minor": 0
}

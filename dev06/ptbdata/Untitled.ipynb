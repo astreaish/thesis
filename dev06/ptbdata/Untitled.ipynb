{
 "cells": [
  {
   "cell_type": "markdown",
   "metadata": {},
   "source": [
    "# Create PTB vocabulary"
   ]
  },
  {
   "cell_type": "code",
   "execution_count": 12,
   "metadata": {
    "collapsed": false
   },
   "outputs": [],
   "source": [
    "def addWords(filename, dic):\n",
    "\n",
    "    f=open(filename, 'r')\n",
    "    sentences=f.readlines()\n",
    "\n",
    "    \n",
    "    i=0\n",
    "    for sentence in sentences:\n",
    "        words=sentence.split(' ')\n",
    "        for word in words:\n",
    "            if word!= '' and word!='\\n':\n",
    "                if word not in dic:\n",
    "                    dic[word]=i\n",
    "                    i+=1\n",
    "\n",
    "        pass\n",
    "    return dic\n"
   ]
  },
  {
   "cell_type": "code",
   "execution_count": 14,
   "metadata": {
    "collapsed": false
   },
   "outputs": [
    {
     "name": "stdout",
     "output_type": "stream",
     "text": [
      "9999\n"
     ]
    }
   ],
   "source": [
    "dic={}\n",
    "dic=addWords('ptb.test.txt', dic)\n",
    "dic=addWords('ptb.valid.txt', dic)\n",
    "dic=addWords('ptb.train.txt', dic)\n",
    "\n",
    "print len(dic)\n"
   ]
  },
  {
   "cell_type": "code",
   "execution_count": 23,
   "metadata": {
    "collapsed": false
   },
   "outputs": [],
   "source": [
    "fp = open('input.wlist', 'w')\n",
    "\n",
    "inv_map = {v: k for k, v in dic.iteritems()}\n",
    "\n",
    "for key in inv_map: \n",
    "    fp.write(str(key)+ ' '+inv_map[key]+'\\n')"
   ]
  },
  {
   "cell_type": "code",
   "execution_count": null,
   "metadata": {
    "collapsed": true
   },
   "outputs": [],
   "source": []
  }
 ],
 "metadata": {
  "kernelspec": {
   "display_name": "Python 2",
   "language": "python",
   "name": "python2"
  },
  "language_info": {
   "codemirror_mode": {
    "name": "ipython",
    "version": 2
   },
   "file_extension": ".py",
   "mimetype": "text/x-python",
   "name": "python",
   "nbconvert_exporter": "python",
   "pygments_lexer": "ipython2",
   "version": "2.7.9"
  }
 },
 "nbformat": 4,
 "nbformat_minor": 0
}

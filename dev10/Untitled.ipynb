{
 "cells": [
  {
   "cell_type": "code",
   "execution_count": 3,
   "metadata": {
    "collapsed": true
   },
   "outputs": [],
   "source": [
    "import tensorflow as tf\n",
    "import numpy as np"
   ]
  },
  {
   "cell_type": "code",
   "execution_count": 4,
   "metadata": {
    "collapsed": false
   },
   "outputs": [
    {
     "name": "stdout",
     "output_type": "stream",
     "text": [
      "[[ 1.  2.  3.]\n",
      " [ 4.  5.  6.]\n",
      " [ 7.  6.  9.]]\n"
     ]
    }
   ],
   "source": [
    "patch=np.array([[1,2,3],[4,5,6], [7,6,9]], dtype=np.float32)\n",
    "print patch"
   ]
  },
  {
   "cell_type": "code",
   "execution_count": 5,
   "metadata": {
    "collapsed": true
   },
   "outputs": [],
   "source": [
    "tpatch=tf.constant(patch)"
   ]
  },
  {
   "cell_type": "code",
   "execution_count": 43,
   "metadata": {
    "collapsed": false
   },
   "outputs": [
    {
     "name": "stdout",
     "output_type": "stream",
     "text": [
      "[[ 9.  7.  6.  9.  7.]\n",
      " [ 3.  1.  2.  3.  1.]\n",
      " [ 6.  4.  5.  6.  4.]\n",
      " [ 9.  7.  6.  9.  7.]\n",
      " [ 3.  1.  2.  3.  1.]]\n"
     ]
    }
   ],
   "source": [
    "trial=tf.tile(tpatch, [1,3,3,1])\n",
    "\n",
    "with tf.Session() as sess: \n",
    "    print sess.run(trial[:,2:7,2:7,:\n",
    "                        ])"
   ]
  },
  {
   "cell_type": "code",
   "execution_count": 41,
   "metadata": {
    "collapsed": false
   },
   "outputs": [
    {
     "name": "stdout",
     "output_type": "stream",
     "text": [
      "Tensor(\"strided_slice_4:0\", shape=(4, 4), dtype=float32)\n"
     ]
    }
   ],
   "source": [
    "print trial[2:6,2:6]"
   ]
  },
  {
   "cell_type": "code",
   "execution_count": null,
   "metadata": {
    "collapsed": true
   },
   "outputs": [],
   "source": []
  }
 ],
 "metadata": {
  "kernelspec": {
   "display_name": "Python 2",
   "language": "python",
   "name": "python2"
  },
  "language_info": {
   "codemirror_mode": {
    "name": "ipython",
    "version": 2
   },
   "file_extension": ".py",
   "mimetype": "text/x-python",
   "name": "python",
   "nbconvert_exporter": "python",
   "pygments_lexer": "ipython2",
   "version": "2.7.9"
  }
 },
 "nbformat": 4,
 "nbformat_minor": 2
}

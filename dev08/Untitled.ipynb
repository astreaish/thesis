{
 "cells": [
  {
   "cell_type": "code",
   "execution_count": 1,
   "metadata": {
    "collapsed": false
   },
   "outputs": [],
   "source": [
    "%matplotlib inline\n",
    "import numpy as np\n",
    "import matplotlib\n",
    "import matplotlib.pyplot as plt"
   ]
  },
  {
   "cell_type": "markdown",
   "metadata": {},
   "source": [
    "# NODE ORGANISATION"
   ]
  },
  {
   "cell_type": "code",
   "execution_count": 108,
   "metadata": {
    "collapsed": true
   },
   "outputs": [],
   "source": [
    "activations=np.load('activation.npy')"
   ]
  },
  {
   "cell_type": "code",
   "execution_count": 109,
   "metadata": {
    "collapsed": false
   },
   "outputs": [
    {
     "data": {
      "text/plain": [
       "(14, 14)"
      ]
     },
     "execution_count": 109,
     "metadata": {},
     "output_type": "execute_result"
    }
   ],
   "source": [
    "np.shape(activations)\n"
   ]
  },
  {
   "cell_type": "code",
   "execution_count": 111,
   "metadata": {
    "collapsed": false
   },
   "outputs": [
    {
     "data": {
      "text/plain": [
       "<matplotlib.image.AxesImage at 0x119c30450>"
      ]
     },
     "execution_count": 111,
     "metadata": {},
     "output_type": "execute_result"
    },
    {
     "data": {
      "image/png": "[encoded data removed]",
      "text/plain": [
       "<matplotlib.figure.Figure at 0x119aa49d0>"
      ]
     },
     "metadata": {},
     "output_type": "display_data"
    }
   ],
   "source": [
    "plt.imshow(activations, interpolation='none', cmap=cm.jet)"
   ]
  },
  {
   "cell_type": "markdown",
   "metadata": {},
   "source": [
    "# ACTIVATION TRANSFORMATION\n",
    "\n",
    "1. starting from high pass filter (https://stackoverflow.com/questions/6094957/high-pass-filter-for-image-processing-in-python-by-using-scipy-numpy)"
   ]
  },
  {
   "cell_type": "raw",
   "metadata": {
    "collapsed": false
   },
   "source": [
    "import matplotlib.pyplot as plt\n",
    "import numpy as np\n",
    "from scipy import ndimage\n",
    "\n",
    "#def plot(data, title):\n",
    "#    plot.i += 1\n",
    "#    plt.subplot(2,2,plot.i)\n",
    "#    plt.imshow(data)\n",
    "#    plt.gray()\n",
    "#    plt.title(title)\n",
    "#plot.i = 0\n",
    "\n",
    "# A very simple and very narrow highpass filter\n",
    "kernel = np.array([[-1, -1, -1],\n",
    "                   [-1,  8, -1],\n",
    "                   [-1, -1, -1]])\n",
    "\n",
    "highpass_3x3 = ndimage.convolve(activations, kernel)\n",
    "\n",
    "# Another way of making a highpass filter is to simply subtract a lowpass\n",
    "# filtered image from the original. Here, we'll use a simple gaussian filter\n",
    "# to \"blur\" (i.e. a lowpass filter) the original.\n",
    "lowpass = ndimage.gaussian_filter(activations, 3)\n",
    "gauss_highpass = activations - lowpass\n",
    "#plt(gauss_highpass, r'Gaussian Highpass, $\\sigma = 3 pixels$')\n",
    "#plt.show()\n",
    "\n",
    "plt.imshow(highpass_3x3, interpolation='none')"
   ]
  },
  {
   "cell_type": "markdown",
   "metadata": {},
   "source": [
    "# Target Pattern\n"
   ]
  },
  {
   "cell_type": "markdown",
   "metadata": {},
   "source": [
    "# Regularisation\n",
    "Frobenius norm"
   ]
  },
  {
   "cell_type": "code",
   "execution_count": 22,
   "metadata": {
    "collapsed": false
   },
   "outputs": [
    {
     "data": {
      "text/plain": [
       "1.7954046"
      ]
     },
     "execution_count": 22,
     "metadata": {},
     "output_type": "execute_result"
    }
   ],
   "source": [
    "from scipy.linalg import norm\n",
    "\n",
    "norm(gauss_highpass)"
   ]
  },
  {
   "cell_type": "code",
   "execution_count": 117,
   "metadata": {
    "collapsed": false
   },
   "outputs": [
    {
     "data": {
      "image/png": "[encoded data removed]",
      "text/plain": [
       "<matplotlib.figure.Figure at 0x119b65c50>"
      ]
     },
     "metadata": {},
     "output_type": "display_data"
    }
   ],
   "source": [
    "from matplotlib import cm\n",
    "\n",
    "K = np.array([[-1, -1, -1],\n",
    "            [-1,  8, -1],\n",
    "            [-1, -1, -1]],  dtype=np.float32)\n",
    "\n",
    "# as tensorflow constants with correct shapes\n",
    "\n",
    "x = tf.constant(activations.reshape(activations.shape[0], activations.shape[1],1, 1))\n",
    "w = tf.constant(K.reshape(K.shape[0],K.shape[1], 1, 1))\n",
    "\n",
    "with tf.Session() as sess:\n",
    "    # get low/high pass ops\n",
    "    highpass = tf.nn.conv2d(x, w, strides=[1, 1, 1, 1], padding='SAME')\n",
    "    \n",
    "    l = sess.run(highpass)\n",
    "    l = l.reshape(14,14)\n",
    "    \n",
    "    plt.imshow(l, interpolation='none', cmap=cm.jet)\n",
    "    #l=sess.run(h)\n",
    "    \n",
    "    #fig, ax = plt.subplots()\n",
    "\n",
    "    \n",
    "\n",
    "    #cax = ax.imshow(l, interpolation='none', cmap=cm.coolwarm)\n",
    "    #ax.set_title('Gaussian noise with vertical colorbar')\n"
   ]
  },
  {
   "cell_type": "code",
   "execution_count": 107,
   "metadata": {
    "collapsed": false
   },
   "outputs": [
    {
     "name": "stdout",
     "output_type": "stream",
     "text": [
      "-0.0119842737913\n"
     ]
    }
   ],
   "source": [
    "print real_value-l[13, 13]"
   ]
  },
  {
   "cell_type": "code",
   "execution_count": 101,
   "metadata": {
    "collapsed": false
   },
   "outputs": [
    {
     "name": "stdout",
     "output_type": "stream",
     "text": [
      "-0.0179767\n"
     ]
    }
   ],
   "source": []
  },
  {
   "cell_type": "code",
   "execution_count": 26,
   "metadata": {
    "collapsed": false
   },
   "outputs": [
    {
     "name": "stdout",
     "output_type": "stream",
     "text": [
      "2017-06-08 17:15:31.131819\n",
      "saving in:  20170608171531\n"
     ]
    }
   ],
   "source": [
    "# Adding time as saving folder name\n",
    "import datetime\n",
    "now = str(datetime.datetime.now())\n",
    "savefold=now[0:4]+now[5:7]+now[8:10]+now[11:13]+now[14:16]+now[17:19]\n",
    "print 'saving in: ', savefold\n"
   ]
  },
  {
   "cell_type": "code",
   "execution_count": 27,
   "metadata": {
    "collapsed": true
   },
   "outputs": [],
   "source": [
    "import os\n",
    "os.mkdir('hi')"
   ]
  },
  {
   "cell_type": "code",
   "execution_count": null,
   "metadata": {
    "collapsed": true
   },
   "outputs": [],
   "source": []
  }
 ],
 "metadata": {
  "kernelspec": {
   "display_name": "Python 2",
   "language": "python",
   "name": "python2"
  },
  "language_info": {
   "codemirror_mode": {
    "name": "ipython",
    "version": 2
   },
   "file_extension": ".py",
   "mimetype": "text/x-python",
   "name": "python",
   "nbconvert_exporter": "python",
   "pygments_lexer": "ipython2",
   "version": "2.7.9"
  }
 },
 "nbformat": 4,
 "nbformat_minor": 0
}
